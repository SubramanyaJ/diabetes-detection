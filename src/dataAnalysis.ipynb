{
 "cells": [
  {
   "cell_type": "markdown",
   "metadata": {},
   "source": [
    "<b>In order to determine which methods to develop a predictive model are best, we analyze the data at hand to learn which method will give the lowest bias and variance.</b>\n",
    "\n"
   ]
  },
  {
   "cell_type": "markdown",
   "metadata": {},
   "source": [
    "We consider the following algorithms to begin with : <br>\n",
    "1. Logistic Regression<br>\n",
    "2. Support Vector Machines<br>\n",
    "3. k-nearest Neighbours<br>\n",
    "4. Naive Bayes<br>\n",
    "5. Decision Trees<br>\n",
    "6. Neural Networks<br> "
   ]
  },
  {
   "cell_type": "markdown",
   "metadata": {},
   "source": [
    "<h3>1. Logistic Regression</h3>\n",
    "<b>R-squared (Coefficient of Determination)</b>: This value indicates the proportion of variance in the dependent variable that can be explained by the independent variable(s). A higher R-squared value (closer to 1) suggests a better fit.\n",
    "\n",
    "<b>P-values of Coefficients</b>: P-values indicate the statistical significance of each predictor variable. Low p-values (typically < 0.05) suggest that the predictor is significantly contributing to the model.\n",
    "\n",
    "<b>Residual Analysis</b>: Analyzing the residuals (the differences between observed and predicted values) can reveal if the assumptions of linear regression are met, such as homoscedasticity (constant variance) and normality.\n",
    "\n",
    "<b>Correlation Coefficient</b>: The correlation between the independent and dependent variables can give a preliminary indication of how linear the relationship is.\n",
    "\n",
    "<b>Mean Squared Error (MSE) or Root Mean Squared Error (RMSE)</b>: These metrics quantify the average error of the model’s predictions. Lower values indicate a better fit.\n"
   ]
  }
 ],
 "metadata": {
  "kernelspec": {
   "display_name": "Python 3 (ipykernel)",
   "language": "python",
   "name": "python3"
  }
 },
 "nbformat": 4,
 "nbformat_minor": 2
}
