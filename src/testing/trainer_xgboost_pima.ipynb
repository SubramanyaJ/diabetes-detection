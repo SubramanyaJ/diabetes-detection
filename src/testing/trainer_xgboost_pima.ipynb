{
  "cells": [
    {
      "cell_type": "code",
      "execution_count": 31,
      "metadata": {
        "colab": {
          "base_uri": "https://localhost:8080/"
        },
        "id": "0qYfMc-bgFcl",
        "outputId": "124bd5e2-1daf-49cf-fa4a-a691bda189ca"
      },
      "outputs": [
        {
          "output_type": "stream",
          "name": "stdout",
          "text": [
            "Fitting 5 folds for each of 1 candidates, totalling 5 fits\n",
            "Best Hyperparameters: {'colsample_bytree': 1.0, 'gamma': 0, 'learning_rate': 0.1, 'max_depth': 3, 'n_estimators': 48, 'subsample': 0.8}\n",
            "Model and feature names saved successfully.\n",
            "Accuracy: 0.7604\n",
            "Classification Report:\n",
            "              precision    recall  f1-score   support\n",
            "\n",
            "           0       0.82      0.80      0.81       123\n",
            "           1       0.66      0.70      0.68        69\n",
            "\n",
            "    accuracy                           0.76       192\n",
            "   macro avg       0.74      0.75      0.74       192\n",
            "weighted avg       0.76      0.76      0.76       192\n",
            "\n"
          ]
        },
        {
          "output_type": "stream",
          "name": "stderr",
          "text": [
            "/usr/local/lib/python3.11/dist-packages/xgboost/core.py:158: UserWarning: [00:59:24] WARNING: /workspace/src/learner.cc:740: \n",
            "Parameters: { \"use_label_encoder\" } are not used.\n",
            "\n",
            "  warnings.warn(smsg, UserWarning)\n"
          ]
        }
      ],
      "source": [
        "import pandas as pd\n",
        "import xgboost as xgb\n",
        "from sklearn.model_selection import train_test_split, GridSearchCV\n",
        "from sklearn.metrics import accuracy_score, classification_report\n",
        "import joblib\n",
        "\n",
        "# File paths\n",
        "DATA_PATH = \"pima_indians.csv\"\n",
        "MODEL_PATH = \"pima_xgb_model.pkl\"\n",
        "FEATURES_PATH = \"pima_feature_names.pkl\"\n",
        "\n",
        "# Load the dataset\n",
        "df = pd.read_csv(DATA_PATH)\n",
        "\n",
        "# Define features and target variable\n",
        "X = df.drop(columns=['Outcome'])\n",
        "y = df['Outcome']\n",
        "\n",
        "# Split the data into training and testing sets\n",
        "X_train, X_test, y_train, y_test = train_test_split(X, y, test_size=0.25, random_state=42)\n",
        "\n",
        "# Define the XGBoost model\n",
        "model = xgb.XGBClassifier(use_label_encoder=False, eval_metric='logloss')\n",
        "\n",
        "# Hyperparameter grid for tuning\n",
        "param_grid = {\n",
        "    'n_estimators': [48],  # Number of boosting rounds\n",
        "    'max_depth': [3],          # Maximum depth of a tree\n",
        "    'learning_rate': [0.1],  # Learning rate\n",
        "    'subsample': [0.8],         # Subsample ratio of the training instances\n",
        "    'colsample_bytree': [1.0],  # Subsample ratio of columns when constructing each tree\n",
        "    'gamma': [0],          # Minimum loss reduction required to make a split\n",
        "}\n",
        "\n",
        "# Perform grid search with cross-validation\n",
        "grid_search = GridSearchCV(\n",
        "    estimator=model,\n",
        "    param_grid=param_grid,\n",
        "    scoring='accuracy',  # Metric to optimize\n",
        "    cv=5,  # 5-fold cross-validation\n",
        "    n_jobs=-1,  # Use all available CPU cores\n",
        "    verbose=1  # Print progress\n",
        ")\n",
        "\n",
        "# Fit the grid search to the training data\n",
        "grid_search.fit(X_train, y_train)\n",
        "\n",
        "# Get the best model and hyperparameters\n",
        "best_model = grid_search.best_estimator_\n",
        "best_params = grid_search.best_params_\n",
        "print(\"Best Hyperparameters:\", best_params)\n",
        "\n",
        "# Save the best model and feature names\n",
        "joblib.dump(best_model, MODEL_PATH)\n",
        "joblib.dump(X.columns.tolist(), FEATURES_PATH)\n",
        "print(\"Model and feature names saved successfully.\")\n",
        "\n",
        "# Evaluate the best model\n",
        "y_pred = best_model.predict(X_test)\n",
        "accuracy = accuracy_score(y_test, y_pred)\n",
        "report = classification_report(y_test, y_pred)\n",
        "\n",
        "print(f\"Accuracy: {accuracy:.4f}\")\n",
        "print(\"Classification Report:\")\n",
        "print(report)"
      ]
    }
  ],
  "metadata": {
    "colab": {
      "provenance": []
    },
    "kernelspec": {
      "display_name": "Python 3",
      "name": "python3"
    },
    "language_info": {
      "name": "python"
    }
  },
  "nbformat": 4,
  "nbformat_minor": 0
}