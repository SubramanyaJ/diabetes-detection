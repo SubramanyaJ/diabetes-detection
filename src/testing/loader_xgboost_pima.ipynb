{
  "cells": [
    {
      "cell_type": "code",
      "execution_count": null,
      "metadata": {
        "colab": {
          "base_uri": "https://localhost:8080/"
        },
        "id": "0qYfMc-bgFcl",
        "outputId": "879552cb-0a9f-4d56-8225-986009f8dc9a"
      },
      "outputs": [
        {
          "output_type": "stream",
          "name": "stdout",
          "text": [
            "Enter values for the following features:\n",
            "Insulin Levels: 18\n",
            "Age: 59\n",
            "BMI: 25\n",
            "Waist Circumference: 37\n",
            "Cholesterol Levels: 214\n",
            "Blood Glucose Levels: 114\n",
            "Pancreatic Health: 64\n",
            "Predicted diabetes type: 0\n"
          ]
        }
      ],
      "source": [
        "import numpy as np\n",
        "import joblib\n",
        "\n",
        "# File paths\n",
        "MODEL_PATH = 'xgb_model.pkl'\n",
        "FEATURES_PATH = 'feature_names.pkl'\n",
        "\n",
        "# Load model and features\n",
        "model = joblib.load(MODEL_PATH)\n",
        "feature_names = joblib.load(FEATURES_PATH)\n",
        "\n",
        "# Ask user for input\n",
        "print(\"Enter values for the following features (enter '-' if unknown):\")\n",
        "user_input = []\n",
        "for feature in feature_names:\n",
        "    value = input(f\"{feature}: \")\n",
        "    if value == '-':\n",
        "        user_input.append(np.nan)  # Use NaN for unknown values\n",
        "    else:\n",
        "        user_input.append(float(value))  # Convert to float\n",
        "\n",
        "# Convert input to numpy array and reshape\n",
        "user_array = np.array(user_input).reshape(1, -1)\n",
        "\n",
        "# Predict\n",
        "prediction = model.predict(user_array)\n",
        "print(f\"Predicted diabetes type: {prediction[0]}\")"
      ]
    }
  ],
  "metadata": {
    "colab": {
      "provenance": []
    },
    "kernelspec": {
      "display_name": "Python 3",
      "name": "python3"
    },
    "language_info": {
      "name": "python"
    }
  },
  "nbformat": 4,
  "nbformat_minor": 0
}