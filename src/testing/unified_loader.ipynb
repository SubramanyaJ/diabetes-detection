{
  "cells": [
    {
      "cell_type": "code",
      "execution_count": 10,
      "metadata": {
        "colab": {
          "base_uri": "https://localhost:8080/"
        },
        "id": "0qYfMc-bgFcl",
        "outputId": "8a22a263-eef5-4bbf-8952-0101ddeac0fc"
      },
      "outputs": [
        {
          "output_type": "stream",
          "name": "stdout",
          "text": [
            "Enter values for the following features (enter '-' if unknown):\n",
            "Pregnancies: 3\n",
            "Glucose: 193\n",
            "BloodPressure: 70\n",
            "SkinThickness: 31\n",
            "Insulin: 23\n",
            "BMI: 35\n",
            "DiabetesPedigreeFunction: -\n",
            "Age: 25\n",
            "Prediction : Diabetes\n",
            "Enter values for the following features:\n",
            "Insulin Levels: 29\n",
            "Age: 30\n",
            "BMI: 32\n",
            "Waist Circumference: 43\n",
            "Cholesterol Levels: 237\n",
            "Blood Glucose Levels: 190\n",
            "Pancreatic Health: -\n",
            "Predicted diabetes type: Type 2 Diabetes\n"
          ]
        }
      ],
      "source": [
        "import numpy as np\n",
        "import joblib\n",
        "\n",
        "# File paths\n",
        "MODEL_PATH = 'pima_xgb_model.pkl'\n",
        "FEATURES_PATH = 'pima_feature_names.pkl'\n",
        "\n",
        "# Load model and features\n",
        "model = joblib.load(MODEL_PATH)\n",
        "feature_names = joblib.load(FEATURES_PATH)\n",
        "\n",
        "# Ask user for input\n",
        "print(\"Enter values for the following features (enter '-' if unknown):\")\n",
        "user_input = []\n",
        "for feature in feature_names:\n",
        "    value = input(f\"{feature}: \")\n",
        "    if value == '-':\n",
        "        user_input.append(np.nan)  # Use NaN for unknown values\n",
        "    else:\n",
        "        user_input.append(float(value))  # Convert to float\n",
        "\n",
        "# Convert input to numpy array and reshape\n",
        "user_array = np.array(user_input).reshape(1, -1)\n",
        "\n",
        "# Predict\n",
        "prediction = model.predict(user_array)\n",
        "diabetes_bool = {0: \"No diabetes\", 1: \"Diabetes\"}\n",
        "print(f\"Prediction : {diabetes_bool[prediction[0]]}\")\n",
        "\n",
        "if (prediction[0] == 0):\n",
        "  exit\n",
        "\n",
        "MODEL_PATH = 'xgb_model.pkl'\n",
        "FEATURES_PATH = 'feature_names.pkl'\n",
        "\n",
        "# Load model and features\n",
        "model = joblib.load(MODEL_PATH)\n",
        "feature_names = joblib.load(FEATURES_PATH)\n",
        "\n",
        "# Ask user for input\n",
        "print(\"Enter values for the following features:\")\n",
        "user_input = []\n",
        "for feature in feature_names:\n",
        "    value = input(f\"{feature}: \")\n",
        "    if value == '-':\n",
        "        user_input.append(np.nan)  # Use NaN for unknown values\n",
        "    else:\n",
        "        user_input.append(float(value))  # Convert to float\n",
        "\n",
        "# Convert input to numpy array and reshape\n",
        "user_array = np.array(user_input).reshape(1, -1)\n",
        "\n",
        "# Predict\n",
        "prediction = model.predict(user_array)\n",
        "# Map prediction to a meaningful label2\n",
        "diabetes_labels = {0: \"Prediabetic\", 1: \"Type 1 Diabetes\", 2: \"Type 2 Diabetes\", 3: \"Type 3c Diabetes\"}\n",
        "print(f\"Predicted diabetes type: {diabetes_labels[prediction[0]]}\")"
      ]
    }
  ],
  "metadata": {
    "colab": {
      "provenance": []
    },
    "kernelspec": {
      "display_name": "Python 3",
      "name": "python3"
    },
    "language_info": {
      "name": "python"
    }
  },
  "nbformat": 4,
  "nbformat_minor": 0
}