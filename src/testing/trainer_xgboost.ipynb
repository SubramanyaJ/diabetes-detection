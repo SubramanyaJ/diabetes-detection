{
  "cells": [
    {
      "cell_type": "code",
      "execution_count": 13,
      "metadata": {
        "colab": {
          "base_uri": "https://localhost:8080/"
        },
        "id": "0qYfMc-bgFcl",
        "outputId": "8bece5a8-fda6-4e70-b808-5bff87ced933"
      },
      "outputs": [
        {
          "output_type": "stream",
          "name": "stderr",
          "text": [
            "/usr/local/lib/python3.11/dist-packages/xgboost/core.py:158: UserWarning: [23:47:59] WARNING: /workspace/src/learner.cc:740: \n",
            "Parameters: { \"scale_pos_weight\" } are not used.\n",
            "\n",
            "  warnings.warn(smsg, UserWarning)\n"
          ]
        },
        {
          "output_type": "stream",
          "name": "stdout",
          "text": [
            "Model trained and saved successfully.\n",
            "Training complete\n"
          ]
        }
      ],
      "source": [
        "import pandas as pd\n",
        "import numpy as np\n",
        "import joblib\n",
        "from sklearn.model_selection import train_test_split\n",
        "from sklearn.metrics import accuracy_score, classification_report\n",
        "from xgboost import XGBClassifier\n",
        "from imblearn.over_sampling import SMOTE\n",
        "\n",
        "# File paths\n",
        "DATA_PATH = 'data.csv'\n",
        "MODEL_PATH = 'xgb_model.pkl'\n",
        "FEATURES_PATH = 'feature_names.pkl'\n",
        "\n",
        "# Load dataset\n",
        "data = pd.read_csv(DATA_PATH)\n",
        "\n",
        "# Feature-target separation\n",
        "X = data.drop(columns=['Target'])\n",
        "y = data['Target']\n",
        "\n",
        "# Split data into train and test sets\n",
        "X_train, X_test, y_train, y_test = train_test_split(X, y, test_size=0.4, random_state=42)\n",
        "\n",
        "# Apply SMOTE to balance classes\n",
        "smote = SMOTE(sampling_strategy='auto', random_state=42)\n",
        "X_train_res, y_train_res = smote.fit_resample(X_train, y_train)\n",
        "\n",
        "# XGBoost parameters\n",
        "xgb_params = {\n",
        "    'n_estimators': 96,\n",
        "    'max_depth': 6,\n",
        "    'min_child_weight': 100,\n",
        "    'subsample': 0.8,\n",
        "    'colsample_bytree': 0.8,\n",
        "    'learning_rate': 0.1,\n",
        "    'scale_pos_weight': 1,\n",
        "    'eval_metric': 'mlogloss',\n",
        "    'random_state': 42\n",
        "}\n",
        "\n",
        "# Train and save model\n",
        "xgb = XGBClassifier(**xgb_params)\n",
        "xgb.fit(X_train_res, y_train_res)\n",
        "\n",
        "# Save model and feature names\n",
        "joblib.dump(xgb, MODEL_PATH)\n",
        "joblib.dump(X.columns.tolist(), FEATURES_PATH)\n",
        "print(\"Model trained and saved successfully.\")\n",
        "\n",
        "print(\"Training complete\")"
      ]
    }
  ],
  "metadata": {
    "colab": {
      "provenance": []
    },
    "kernelspec": {
      "display_name": "Python 3",
      "name": "python3"
    },
    "language_info": {
      "name": "python"
    }
  },
  "nbformat": 4,
  "nbformat_minor": 0
}